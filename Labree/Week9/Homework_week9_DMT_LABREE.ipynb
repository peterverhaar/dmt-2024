{
 "cells": [
  {
   "cell_type": "code",
   "execution_count": 14,
   "id": "b9df71a1-a241-454b-add3-f7340df67ae1",
   "metadata": {},
   "outputs": [
    {
     "name": "stdout",
     "output_type": "stream",
     "text": [
      "colour1 yellow\n",
      "colour2 blue\n"
     ]
    }
   ],
   "source": [
    "# exercise 1.3\n",
    "colour1 = 'blue'\n",
    "colour2 = 'yellow'\n",
    "swap = colour1 \n",
    "colour1 = colour2 \n",
    "colour2 = swap\n",
    "print (\"colour1\", colour1)\n",
    "print (\"colour2\", colour2)"
   ]
  },
  {
   "cell_type": "code",
   "execution_count": 16,
   "id": "ac998ef1-f4e9-421b-bc72-8ccdd656898c",
   "metadata": {},
   "outputs": [
    {
     "name": "stdout",
     "output_type": "stream",
     "text": [
      "7.0\n"
     ]
    }
   ],
   "source": [
    "# exercise 2.3\n",
    "value_1 = 6\n",
    "value_2 = 9\n",
    "value_3 =6\n",
    "average = (value_1 + value_2 + value_3) /3\n",
    "print(average)\n"
   ]
  },
  {
   "cell_type": "code",
   "execution_count": 2,
   "id": "eea25275-bd42-4e11-8633-7b5f687d64bd",
   "metadata": {},
   "outputs": [
    {
     "name": "stdout",
     "output_type": "stream",
     "text": [
      "seven days last 604800 seconds.\n"
     ]
    }
   ],
   "source": [
    "# exercise 2.4\n",
    "# variables\n",
    "days = 7\n",
    "hours_per_day = 24\n",
    "minutes_per_hour = 60\n",
    "seconds_per_minute = 60\n",
    "\n",
    "# calculation\n",
    "total_seconds = days * hours_per_day * minutes_per_hour * seconds_per_minute\n",
    "\n",
    "# results\n",
    "print(f\"seven days last {total_seconds} seconds.\")"
   ]
  },
  {
   "cell_type": "code",
   "execution_count": 4,
   "id": "bfb66e59-5b00-40ed-8e82-0950981a561e",
   "metadata": {},
   "outputs": [
    {
     "name": "stdout",
     "output_type": "stream",
     "text": [
      "Number of days in 4 weeks: 28\n"
     ]
    }
   ],
   "source": [
    "# exercise 2.7\n",
    "# variables\n",
    "nr_weeks = 4\n",
    "# calculation\n",
    "print( f\"Number of days in 4 weeks: {nr_weeks*7}\" )\n"
   ]
  },
  {
   "cell_type": "code",
   "execution_count": 6,
   "id": "f23a84c3-1992-4679-977d-56130c5e0524",
   "metadata": {},
   "outputs": [
    {
     "name": "stdout",
     "output_type": "stream",
     "text": [
      "Albert Einstein was born in 1879\n"
     ]
    }
   ],
   "source": [
    "# exercise 3.1\n",
    "year = 1879\n",
    "print(f\"Albert Einstein was born in {year}\")"
   ]
  },
  {
   "cell_type": "code",
   "execution_count": 12,
   "id": "6c14485f-49e9-4c0c-aca3-a8fabbb2701f",
   "metadata": {},
   "outputs": [
    {
     "name": "stdout",
     "output_type": "stream",
     "text": [
      "Vladimir Nabokov\n"
     ]
    }
   ],
   "source": [
    "#exercise 3.4\n",
    "first = 'Vladimir'\n",
    "last = 'Nabokov'\n",
    "full_name = first + \" \" + last\n",
    "print(full_name)"
   ]
  }
 ],
 "metadata": {
  "kernelspec": {
   "display_name": "Python 3 (ipykernel)",
   "language": "python",
   "name": "python3"
  },
  "language_info": {
   "codemirror_mode": {
    "name": "ipython",
    "version": 3
   },
   "file_extension": ".py",
   "mimetype": "text/x-python",
   "name": "python",
   "nbconvert_exporter": "python",
   "pygments_lexer": "ipython3",
   "version": "3.12.7"
  }
 },
 "nbformat": 4,
 "nbformat_minor": 5
}
