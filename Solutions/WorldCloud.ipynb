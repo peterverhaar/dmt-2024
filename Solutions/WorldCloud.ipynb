{
 "cells": [
  {
   "cell_type": "code",
   "execution_count": null,
   "id": "78a6895f",
   "metadata": {},
   "outputs": [],
   "source": [
    "from wordcloud import WordCloud, ImageColorGenerator \n",
    "from PIL import Image\n",
    "import matplotlib.pyplot as plt\n",
    "import numpy as np"
   ]
  },
  {
   "cell_type": "code",
   "execution_count": null,
   "id": "9715d88c",
   "metadata": {},
   "outputs": [],
   "source": [
    "\n",
    "with open( 'text.txt' , 'w') as f:\n",
    "    for w in words1:\n",
    "        f.write( f'{w} '*5 )\n",
    "    for w in words2:\n",
    "        f.write( f'{w} '*10 )\n",
    "    for w in words3:\n",
    "        f.write( f'{w} '*5 )\n",
    "    f.write(oa_text)\n",
    "    f.write(oa_text)\n",
    "\n",
    "from stop_words import get_stop_words\n",
    "stop_words = get_stop_words('english')     "
   ]
  },
  {
   "cell_type": "code",
   "execution_count": null,
   "id": "93d2042a",
   "metadata": {},
   "outputs": [],
   "source": [
    "from nltk import word_tokenize\n",
    "from nltk.corpus import stopwords\n",
    "\n",
    "\n",
    "\n",
    "freq = dict()\n",
    "\n",
    "with open('text.txt', 'r') as txt_file:\n",
    "    text_OA = txt_file.read()\n",
    "\n",
    "words = word_tokenize(text_OA)\n",
    "\n",
    "\n",
    "for w in words:\n",
    "    w = w.lower()\n",
    "    if w not in stop_words:\n",
    "        freq[w] = freq.get(w,0) + 1\n"
   ]
  },
  {
   "cell_type": "code",
   "execution_count": null,
   "id": "7a0c86d7",
   "metadata": {},
   "outputs": [],
   "source": [
    "img= 'christmasTree.png'\n",
    "\n"
   ]
  },
  {
   "cell_type": "code",
   "execution_count": null,
   "id": "ec2e1e19",
   "metadata": {},
   "outputs": [],
   "source": [
    "from wordcloud import WordCloud, ImageColorGenerator \n",
    "from PIL import Image\n",
    "import matplotlib.pyplot as plt\n",
    "import numpy as np# create a mask based on the image we wish to include\n",
    "my_mask = np.array(Image.open(img))# create a wordcloud \n",
    "\n",
    "\n",
    "\n",
    "wc = WordCloud(background_color='white',\n",
    "               mask=my_mask,\n",
    "               collocations=False,\n",
    "               width=600,\n",
    "               font_path='Georgia', \n",
    "               height=300,\n",
    "               contour_width=0.1,\n",
    "               contour_color='#eb7c0e',\n",
    "               min_font_size = 4,\n",
    "               stopwords=stop_words)"
   ]
  },
  {
   "cell_type": "code",
   "execution_count": null,
   "id": "15ab4856",
   "metadata": {},
   "outputs": [],
   "source": [
    "wc.generate(text_OA)\n",
    "    "
   ]
  },
  {
   "cell_type": "code",
   "execution_count": null,
   "id": "d91f3498",
   "metadata": {},
   "outputs": [],
   "source": [
    "image_colors = ImageColorGenerator(my_mask)\n",
    "\n",
    "wc.recolor(color_func=lambda *args, **kwargs: '#eb7c0e' )"
   ]
  },
  {
   "cell_type": "code",
   "execution_count": null,
   "id": "34429cbe",
   "metadata": {},
   "outputs": [],
   "source": [
    "plt.figure(figsize=(20,20))\n",
    "plt.imshow(wc, interpolation='bilinear')\n",
    "plt.axis('off')\n",
    "wc.to_file('wordcloud.png')\n",
    "plt.savefig('oa_wordcloud.png' , dpi=300)"
   ]
  },
  {
   "cell_type": "code",
   "execution_count": null,
   "id": "ca18f4ff",
   "metadata": {},
   "outputs": [],
   "source": []
  }
 ],
 "metadata": {
  "kernelspec": {
   "display_name": "Python 3 (ipykernel)",
   "language": "python",
   "name": "python3"
  },
  "language_info": {
   "codemirror_mode": {
    "name": "ipython",
    "version": 3
   },
   "file_extension": ".py",
   "mimetype": "text/x-python",
   "name": "python",
   "nbconvert_exporter": "python",
   "pygments_lexer": "ipython3",
   "version": "3.7.9"
  }
 },
 "nbformat": 4,
 "nbformat_minor": 5
}
