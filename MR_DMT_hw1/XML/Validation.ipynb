{
 "cells": [
  {
   "cell_type": "markdown",
   "metadata": {},
   "source": [
    "# Well-formedness\n",
    "\n",
    "This notebook can be used to evaluate the well-formedness and the validity of XML files. \n",
    "\n",
    "The code below firstly checks the well-formedness of a given XML file. The name of the XML file needs to given as a value of the variable named `filename_xml`. The file name needs to be given in quotes.\n",
    "\n",
    "To execute the code, place your cursor in the cell below and click on [Shift] + [Enter]. Alternatively, with your cursor in the cell containing the code, you can also choose \"Run\" from the menu at the top of this page. "
   ]
  },
  {
   "cell_type": "code",
   "execution_count": null,
   "metadata": {},
   "outputs": [],
   "source": [
    "from lxml import etree\n",
    "\n",
    "filename_xml = 'literatureList.xml'\n",
    "\n",
    "\n",
    "with open(filename_xml, 'r') as xml_file:\n",
    "    xml_to_check = xml_file.read()\n",
    "    \n",
    "try:\n",
    "    doc = etree.fromstring( str.encode(xml_to_check) )\n",
    "    print('The document is WELL-FORMED')\n",
    "except Exception as e:\n",
    "    print('The document is NOT WELL-FORMED')\n",
    "    print( str(e) )\n"
   ]
  },
  {
   "cell_type": "markdown",
   "metadata": {},
   "source": [
    "# Validity\n",
    "\n",
    "The code below can check the validity of a given XML against a schema.\n",
    "\n",
    "The name of the XML file needs to given as the value of the variable named `filename_xml`. \n",
    "\n",
    "The URL or the file name of the schema file needs to be given as the value of the variable named `schema`.\n",
    "\n",
    "This code assumes that the schema is in the [Relax NG](.) format. \n",
    "\n",
    "Note that the validation process may take some time. "
   ]
  },
  {
   "cell_type": "code",
   "execution_count": null,
   "metadata": {},
   "outputs": [],
   "source": [
    "from lxml import etree\n",
    "\n",
    "filename_xml = 'EFBO19101102.xml'\n",
    "schema = 'http://bookandbyte.universiteitleiden.nl/schema/tei_all.rng'\n",
    "\n",
    "\n",
    "relaxng_doc = etree.parse(schema)\n",
    "relaxng = etree.RelaxNG(relaxng_doc)\n",
    "\n",
    "try:\n",
    "    doc = etree.parse(filename_xml)\n",
    "    #relaxng.validate(doc)\n",
    "    relaxng.assertValid(doc)\n",
    "    print('The document is valid')\n",
    "except Exception as e:\n",
    "    print('The document is NOT valid.')\n",
    "    print( str(e) )\n"
   ]
  }
 ],
 "metadata": {
  "kernelspec": {
   "display_name": "Python 3",
   "language": "python",
   "name": "python3"
  },
  "language_info": {
   "codemirror_mode": {
    "name": "ipython",
    "version": 3
   },
   "file_extension": ".py",
   "mimetype": "text/x-python",
   "name": "python",
   "nbconvert_exporter": "python",
   "pygments_lexer": "ipython3",
   "version": "3.7.6"
  }
 },
 "nbformat": 4,
 "nbformat_minor": 4
}
