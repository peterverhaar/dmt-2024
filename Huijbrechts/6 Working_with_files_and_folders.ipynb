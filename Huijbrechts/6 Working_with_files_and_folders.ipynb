{
 "cells": [
  {
   "cell_type": "markdown",
   "metadata": {},
   "source": [
    "# 6. Working with files and folders¶\n",
    "\n",
    "## Reading the contents of a folder\n",
    "\n",
    "If you need to manage large numbers of files in a research project, it can be helpful to organise these files using folders and subfolders. To read the contents of such folders with multiple files, you can make use of the `os` library . The two letters in the name of this library stand for 'operating system'. The library includes various functions that can help you to work with files and folders. One useful function is `listdir()`, which, as is suggested by its name, gives you a list of all the files in a given directory. \n",
    "\n",
    "To make use of `os`, this library needs to be imported first.  "
   ]
  },
  {
   "cell_type": "code",
   "execution_count": 5,
   "metadata": {},
   "outputs": [],
   "source": [
    "import os"
   ]
  },
  {
   "cell_type": "markdown",
   "metadata": {},
   "source": [
    "The folder containing the notebooks developed for this course contains a subfolder named 'Corpus'. The cell below shows you how you print a list of all the files in this subfolder. "
   ]
  },
  {
   "cell_type": "code",
   "execution_count": 7,
   "metadata": {},
   "outputs": [
    {
     "name": "stdout",
     "output_type": "stream",
     "text": [
      "BraveNewWorld.txt\n",
      "PrideandPrejudice.txt\n",
      "sonnet116.txt\n",
      "Ullyses.txt\n"
     ]
    }
   ],
   "source": [
    "directory = 'Corpus'\n",
    "\n",
    "for file_name in os.listdir( directory ):\n",
    "    print( file_name )"
   ]
  },
  {
   "cell_type": "markdown",
   "metadata": {},
   "source": [
    "The `listdir()` function only provides the file names. If you want to do some actual work on files in the folder, you will in most cases need to the path to these files as well. In this example, the relative paths (i.e. the paths from the current location) to the files in the folder are relatively simple. The paths consist of the name of the folder, 'Corpus', combined with the file names.  \n",
    "\n",
    "The function `join()`, which is part of the `path` module of `os`, can be used to create a string representing the path to a certain file. If you have one variable which records the base directory of a file, and a second variable which captures the filename, the `join()` function can concatenate the values of these two variables to create the full path to this file. \n",
    "\n",
    "The `join()` function always follows the conventions that are in place on a given operating system for representing paths. There can often be certain differences. While Mac OS uses forward slashes, for instance, Windows uses back slashes. Working with `join()` makes your code more platform-independent.\n",
    "\n",
    "Another useful function in `os` is `isfile()`. As you list the files in a certain directory, using `listdir()`, you can apply this function to check whether you are dealing with a file or with something else ( e.g. a subdirectory).\n",
    "\n",
    "The code below offers a demonstration of these two functions. It lists all the files in the directory that is mentioned, and makes sure that all the subdirectories are ignored. Note that the first line imports the two functions that have been discussed above. As a result of this, it is no longer necessary to use the period syntax for `isfile()` and `join()`."
   ]
  },
  {
   "cell_type": "code",
   "execution_count": 9,
   "metadata": {},
   "outputs": [
    {
     "name": "stdout",
     "output_type": "stream",
     "text": [
      "Corpus\\BraveNewWorld.txt\n",
      "Corpus\\PrideandPrejudice.txt\n",
      "Corpus\\sonnet116.txt\n",
      "Corpus\\Ullyses.txt\n"
     ]
    }
   ],
   "source": [
    "from os.path import isfile , join\n",
    "\n",
    "directory = 'Corpus'\n",
    "\n",
    "for file_name in os.listdir( directory ):\n",
    "    path = join( directory , file_name )\n",
    "    if isfile( path ):\n",
    "        print( path ) \n"
   ]
  },
  {
   "cell_type": "markdown",
   "metadata": {},
   "source": [
    "### Exercise 6.1. \n",
    "\n",
    "Working with the `open()` function, print a sentence which gives information about the number of files in the folder named 'Corpus'."
   ]
  },
  {
   "cell_type": "code",
   "execution_count": 17,
   "metadata": {},
   "outputs": [
    {
     "name": "stdout",
     "output_type": "stream",
     "text": [
      "The number of files in the directory is: 4\n"
     ]
    }
   ],
   "source": [
    "from os.path import isfile , join\n",
    "\n",
    "directory = 'Corpus'\n",
    "\n",
    "count = 0\n",
    "\n",
    "for file_name in os.listdir( directory ):\n",
    "    path = join( directory , file_name )\n",
    "    if isfile( path ):\n",
    "       with open( path , encoding = 'utf-8' ) as file:\n",
    "            count = count + 1\n",
    "print(\"The number of files in the directory is:\", count)"
   ]
  },
  {
   "cell_type": "markdown",
   "metadata": {},
   "source": [
    "## Reading a file\n",
    "\n",
    "\n",
    "If the data that you need to work with in a reseaech project is saved as a file on your computer, you can write code to read this file and to make its contents available within the context of your program.\n",
    "\n",
    "In Python, the contents of files can be read using the `open()` function. The result of this function is a new object which is called a file handler (or, more specifically, a `TextIOWrapper` object). Simply put, a file handler is an object which establishes a connection to the text file on your disk. You are free to give this file handler object any name you like. \n",
    "\n",
    "When you use the `open()` function, you are also recommended to specify the character encoding scheme that has been used in the text file, using the `encoding` parameter. This will help Python to process all the characters correctly. \n",
    "\n",
    "Once the connection is established via the `open()` fuction, you can access the contents of the file in a variety of ways. A first option is to read the contents on a line-by-line or a paragraph-by-paragraph basis. This first approach can be followed when units such as lines or paragraphs in the text are delineated using the hard return or the newline character. If this is the case, the file handler that is created for the file, using `open()`, also becomes iterable: the `for` keyword can then be used to iterate across the various units represented by this file handler. \n",
    " \n",
    "The code below demonstrates how you can read and display the full contents of a text file, paragraph by paragraph. It assumes that there is a file named \"BraveNewWorld.txt\", saved in a folder named \"Corpus\". It also assumes that the various paragraphs are separated using a hard return. "
   ]
  },
  {
   "cell_type": "code",
   "execution_count": 141,
   "metadata": {},
   "outputs": [
    {
     "ename": "SyntaxError",
     "evalue": "incomplete input (24815013.py, line 6)",
     "output_type": "error",
     "traceback": [
      "\u001b[1;36m  Cell \u001b[1;32mIn[141], line 6\u001b[1;36m\u001b[0m\n\u001b[1;33m    #delete the hashtag for the code to work (made scrolling difficult in the file)\u001b[0m\n\u001b[1;37m                                                                                   ^\u001b[0m\n\u001b[1;31mSyntaxError\u001b[0m\u001b[1;31m:\u001b[0m incomplete input\n"
     ]
    }
   ],
   "source": [
    "path = join(\"Corpus\",\"BraveNewWorld.txt\")\n",
    "text = open( path , encoding = 'utf-8' )\n",
    "\n",
    "for paragraph in text:\n",
    "  #  print(paragraph.strip())\n",
    "#delete the hashtag for the code to work (made scrolling difficult in the file)"
   ]
  },
  {
   "cell_type": "markdown",
   "metadata": {},
   "source": [
    "As an alternative, you can also make use of the `read()` function. When you do this, the entire text will not be divided into smaller units. The full contents of the text file will become available as one long string. "
   ]
  },
  {
   "cell_type": "code",
   "execution_count": 20,
   "metadata": {},
   "outputs": [
    {
     "name": "stdout",
     "output_type": "stream",
     "text": [
      "Let me not to the marriage of true minds\n",
      "Admit impediments. Love is not love\n",
      "Which alters when it alteration finds,\n",
      "Or bends with the remover to remove:\n",
      "O, no! it is an ever-fixed mark,\n",
      "That looks on tempests and is never shaken;\n",
      "It is the star to every wandering bark,\n",
      "Whose worth’s unknown, although his height be taken.\n",
      "Love’s not Time’s fool, though rosy lips and cheeks\n",
      "Within his bending sickle’s compass come;\n",
      "Love alters not with his brief hours and weeks,\n",
      "But bears it out even to the edge of doom.\n",
      "If this be error and upon me proved,\n",
      "I never writ, nor no man ever loved.\n"
     ]
    }
   ],
   "source": [
    "path = join(\"Corpus\",\"Sonnet116.txt\")\n",
    "text = open( path , encoding = 'utf-8' )\n",
    "\n",
    "for paragraph in text:\n",
    "    print(paragraph.strip())"
   ]
  },
  {
   "cell_type": "markdown",
   "metadata": {},
   "source": [
    "After we have run this code, we can manipulate the string that is created by the `read()` function just like any other string.\n",
    "\n",
    "It is good practice to close the file handler when you are done working on it, using the `close()` method. "
   ]
  },
  {
   "cell_type": "code",
   "execution_count": 22,
   "metadata": {},
   "outputs": [],
   "source": [
    "text.close()"
   ]
  },
  {
   "cell_type": "markdown",
   "metadata": {},
   "source": [
    "Next to the options that have been discussed so far, you can also read files by making use of a mechanism that is referred to as a context handler. \n",
    "\n",
    "Context handlers are created using the `with` keyword. After `with`, you need to use the `open()` function. This `open()` function needs to be followed by the words `as` and the name you would like to give to the file handler. In the code block underneath `with`, you can access the contents of this file handler. It is generally useful to assign the contents of the text file to a variable. When the code block underneath `with` ends, the file handler is closed automatically. This is actually a great advantage of a context handler. You don't risk forgetting to include the `close()` function.  "
   ]
  },
  {
   "cell_type": "code",
   "execution_count": 30,
   "metadata": {},
   "outputs": [],
   "source": [
    "path = join(\"Corpus\",\"Sonnet116.txt\")\n",
    "\n",
    "with open(path, encoding = 'utf-8') as text:\n",
    "    contents = text.read()\n"
   ]
  },
  {
   "cell_type": "code",
   "execution_count": 32,
   "metadata": {},
   "outputs": [
    {
     "name": "stdout",
     "output_type": "stream",
     "text": [
      "Let me not to the marriage of true minds\n",
      "Admit impediments. Love is not love\n",
      "Which alters when it alteration finds,\n",
      "Or bends with the remover to remove:\n",
      "O, no! it is an ever-fixed mark,\n",
      "That looks on tempests and is never shaken;\n",
      "It is the star to every wandering bark,\n",
      "Whose worth’s unknown, although his height be taken.\n",
      "Love’s not Time’s fool, though rosy lips and cheeks\n",
      "Within his bending sickle’s compass come;\n",
      "Love alters not with his brief hours and weeks,\n",
      "But bears it out even to the edge of doom.\n",
      "If this be error and upon me proved,\n",
      "I never writ, nor no man ever loved.\n",
      "\n"
     ]
    }
   ],
   "source": [
    "file = open('Corpus/Sonnet116.txt', encoding='utf-8')\n",
    "full_text = file.read()\n",
    "print(full_text)\n",
    "file.close()"
   ]
  },
  {
   "cell_type": "markdown",
   "metadata": {},
   "source": [
    "## Writing to a file\n",
    "\n",
    " The output of code created in a Jupyter notebook will normally be shown directly underneath the code cell. When you run a Python program using the Command Prompt, the full output will normally be printed on the Command Prompt as well.\n",
    "\n",
    "When the program has many lines to print, it can be very difficult to read the output. In such cases, it can useful to create a new text file which will receive all the output. The results of the program can then be inspected by opening this new file in a text editor. \n",
    "\n",
    "The function `open()`, which can be used to read files, can also be invoked to create a new file. Instead of referencing a file which already exists on your disk, you need to provide a new file name. Next to this, you also need to supply a second parameter, the character “w”, which stands for “write”. This “w” character makes it clear to Python that you want to write to a file. The `open()` function used with the “w” parameter similarly creates a file handler.\n",
    "\n",
    "This handler has a `write()` method, which functions very similarly to the `print()` function. The crucial difference, however, is that the output is not sent to the default output device (e.g. the Command Prompt or Jupyter Notebook), but to the file that is associated with this file handler. "
   ]
  },
  {
   "cell_type": "markdown",
   "metadata": {},
   "source": [
    "### Exercise 6.2.\n",
    "\n",
    "Using the code discussed above, print the full text of Shakespeare's *Sonnet 116* on your screen, and make sure that you also add line numbers, as follows:\n",
    "    \n",
    "```\n",
    "1. [line1]\n",
    "2. [line2]\n",
    "```"
   ]
  },
  {
   "cell_type": "code",
   "execution_count": 135,
   "metadata": {},
   "outputs": [],
   "source": [
    "file = open('Corpus/Sonnet116.txt', encoding='utf-8')\n",
    "full_text = file.read()\n",
    "#print(full_text)\n",
    "\n",
    "i = 1\n",
    "\n",
    "full_text = full_text.split(\"\\n\")\n",
    "#print(full_text)\n",
    "\n",
    "out = open('lines_sonnet.txt' , 'w')\n",
    "\n",
    "#lined_text = []\n",
    "\n",
    "#print(lined_text)\n",
    "\n",
    "for line in full_text:\n",
    "    numbered_line = \"[Line \"+str(i)+\"] \" + line + \"\\n\"\n",
    "    i = i + 1\n",
    "    #print(numbered_line)\n",
    "    lined_text.append(numbered_line)\n",
    "    out.write(numbered_line)  \n",
    "\n",
    "out.close()\n",
    "\n",
    "file.close()"
   ]
  },
  {
   "cell_type": "markdown",
   "metadata": {},
   "source": [
    "### Exercise 6.3.\n",
    "\n",
    "Building on the code you wrote for exercise 8.1, create a new text file containing the NUMBERED lines of Shakespeare's *Sonnet 116*. As a file name, use \"sonnet166_numbered.txt\", to make sure that you do not overwrite the existing file. "
   ]
  },
  {
   "cell_type": "code",
   "execution_count": 137,
   "metadata": {},
   "outputs": [],
   "source": [
    "file = open('Corpus/Sonnet116.txt', encoding='utf-8')\n",
    "full_text = file.read()\n",
    "\n",
    "i = 1\n",
    "\n",
    "full_text = full_text.split(\"\\n\")\n",
    "\n",
    "out = open('lines_sonnet_numbered.txt' , 'w')\n",
    "\n",
    "for line in full_text:\n",
    "    numbered_line = \"[Line \"+str(i)+\"] \" + line + \"\\n\"\n",
    "    i = i + 1\n",
    "    #print(numbered_line)\n",
    "    lined_text.append(numbered_line)\n",
    "    out.write(numbered_line)  \n",
    "\n",
    "out.close()\n",
    "\n",
    "file.close()"
   ]
  },
  {
   "cell_type": "markdown",
   "metadata": {},
   "source": [
    "### Exercise 6.4.\n",
    "\n",
    "Create a CSV file listing the names of all the files in the subfolder named \"Corpus\", together with the number of characters in each of these files. The number of characters can be found using the `len()` function. The header should specify 'text' and 'nr_characters' as column names. "
   ]
  },
  {
   "cell_type": "code",
   "execution_count": 249,
   "metadata": {},
   "outputs": [],
   "source": [
    "from os.path import isfile , join\n",
    "\n",
    "directory = 'Corpus'\n",
    "\n",
    "out = open('test.csv' , 'w')\n",
    "\n",
    "import csv\n",
    "\n",
    "with open('test.csv' , 'w', newline='') as csvfile:\n",
    "    \n",
    "    writer = csv.writer(csvfile)\n",
    "    writer.writerow([\"text\", \"nr_characters\"])\n",
    "    \n",
    "    for file_name in os.listdir( directory ):\n",
    "        path = join( directory , file_name )\n",
    "        if isfile( path ):\n",
    "            file = open(directory+\"/\"+file_name, encoding='utf-8')\n",
    "            full_text = file.read()\n",
    "            length = len(full_text)\n",
    "            writer.writerow({path, length})\n",
    "out.close()\n",
    "\n",
    "file.close()"
   ]
  },
  {
   "cell_type": "code",
   "execution_count": null,
   "metadata": {},
   "outputs": [],
   "source": []
  }
 ],
 "metadata": {
  "kernelspec": {
   "display_name": "Python 3 (ipykernel)",
   "language": "python",
   "name": "python3"
  },
  "language_info": {
   "codemirror_mode": {
    "name": "ipython",
    "version": 3
   },
   "file_extension": ".py",
   "mimetype": "text/x-python",
   "name": "python",
   "nbconvert_exporter": "python",
   "pygments_lexer": "ipython3",
   "version": "3.12.4"
  }
 },
 "nbformat": 4,
 "nbformat_minor": 4
}
